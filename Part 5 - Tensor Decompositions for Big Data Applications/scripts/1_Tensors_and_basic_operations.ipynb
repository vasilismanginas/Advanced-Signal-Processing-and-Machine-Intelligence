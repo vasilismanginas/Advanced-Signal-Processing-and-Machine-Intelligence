{
 "cells": [
  {
   "cell_type": "code",
   "execution_count": 1,
   "metadata": {},
   "outputs": [],
   "source": [
    "%load_ext autoreload\n",
    "%autoreload 2\n",
    "%matplotlib inline"
   ]
  },
  {
   "cell_type": "code",
   "execution_count": 2,
   "metadata": {},
   "outputs": [],
   "source": [
    "import numpy as np\n",
    "import matplotlib.pyplot as plt\n",
    "from hottbox.core import Tensor"
   ]
  },
  {
   "cell_type": "markdown",
   "metadata": {
    "toc-hr-collapsed": false
   },
   "source": [
    "[Return to Table of Contents](./0_Table_of_contents.ipynb)"
   ]
  },
  {
   "cell_type": "markdown",
   "metadata": {
    "toc-hr-collapsed": false
   },
   "source": [
    "# Tensors and basic operations"
   ]
  },
  {
   "cell_type": "markdown",
   "metadata": {
    "toc-hr-collapsed": true
   },
   "source": [
    "<img src=\"./imgs/tensors_dogs.jpg\" alt=\"Drawing\" style=\"width: 500px;\"/>\n",
    "\n",
    "A tensor is a multi-dimenaional array of data where each dimension is conventionally referred to as the **mode**. Tensor order is defined by the number of its modes which is equivivalent to the number of indices required to identify a particular entry of a multi-dimensional array. For ease of visualisation and compact notation, we consider a third order tensor $\\mathbf{\\underline{X}} \\in \\mathbb{R}^{I \\times J \\times K}$. Thus, an element of such a tensor, $\\mathbf{\\underline{X}} \\in \\mathbb{R}^{I \\times J \\times K}$, can be written in a general form as:\n",
    "\n",
    "$$ x_{ijk} = \\mathbf{\\underline{X}}[i, j, k]$$\n",
    "\n",
    "> **Note:** In order to be consistent with Python indexing, count of modes and elements within starts from zeros.\n",
    "\n",
    "Creation of a tensor starts with a formation of a multidimensional array of data."
   ]
  },
  {
   "cell_type": "code",
   "execution_count": 3,
   "metadata": {},
   "outputs": [
    {
     "name": "stdout",
     "output_type": "stream",
     "text": [
      "This tensor is of order 3 and consists of 24 elements.\n",
      "Sizes and names of its modes are (2, 3, 4) and ['mode-0', 'mode-1', 'mode-2'] respectively.\n"
     ]
    },
    {
     "data": {
      "text/plain": [
       "array([[[ 0,  1,  2,  3],\n",
       "        [ 4,  5,  6,  7],\n",
       "        [ 8,  9, 10, 11]],\n",
       "\n",
       "       [[12, 13, 14, 15],\n",
       "        [16, 17, 18, 19],\n",
       "        [20, 21, 22, 23]]])"
      ]
     },
     "execution_count": 3,
     "metadata": {},
     "output_type": "execute_result"
    }
   ],
   "source": [
    "# Create 3-d array of data\n",
    "array_3d = np.arange(24).reshape((2, 3, 4))\n",
    "\n",
    "# Create tensor\n",
    "tensor = Tensor(array_3d)\n",
    "\n",
    "# Result preview\n",
    "print(tensor)\n",
    "tensor.data"
   ]
  },
  {
   "cell_type": "markdown",
   "metadata": {
    "toc-hr-collapsed": true
   },
   "source": [
    "## **Assigment 1**\n",
    "\n",
    "1. Create a tensor of order 5 (of any shape) and with all its values equal to 5. Then, calculate its Frobenious norm. \n",
    "2. Construct several tensors of orders varying from 3 to 20, with the size of each dimension equal to 2. Plot the relation between an order of a tensor and the number of its elements.\n",
    "3. Construct several tensors of order 3 with the size of each dimension varying from 3 to 15. Plot the relation between the size of dimensions of a tensor and the number of its elements.\n",
    "4. Analyse and compare the so obtained graphs."
   ]
  },
  {
   "cell_type": "markdown",
   "metadata": {},
   "source": [
    "### Solution: Part 1"
   ]
  },
  {
   "cell_type": "code",
   "execution_count": 4,
   "metadata": {},
   "outputs": [
    {
     "name": "stdout",
     "output_type": "stream",
     "text": [
      "This tensor is of order 5 and consists of 32 elements.\n",
      "Sizes and names of its modes are (2, 2, 2, 2, 2) and ['mode-0', 'mode-1', 'mode-2', 'mode-3', 'mode-4'] respectively.\n"
     ]
    },
    {
     "data": {
      "text/plain": [
       "array([[[[[5, 5],\n",
       "          [5, 5]],\n",
       "\n",
       "         [[5, 5],\n",
       "          [5, 5]]],\n",
       "\n",
       "\n",
       "        [[[5, 5],\n",
       "          [5, 5]],\n",
       "\n",
       "         [[5, 5],\n",
       "          [5, 5]]]],\n",
       "\n",
       "\n",
       "\n",
       "       [[[[5, 5],\n",
       "          [5, 5]],\n",
       "\n",
       "         [[5, 5],\n",
       "          [5, 5]]],\n",
       "\n",
       "\n",
       "        [[[5, 5],\n",
       "          [5, 5]],\n",
       "\n",
       "         [[5, 5],\n",
       "          [5, 5]]]]])"
      ]
     },
     "execution_count": 4,
     "metadata": {},
     "output_type": "execute_result"
    }
   ],
   "source": [
    "# Create a tensor\n",
    "array_5d = np.full((2, 2, 2, 2, 2), 5)\n",
    "tensor_5d = Tensor(array_5d)\n",
    "print(tensor_5d)\n",
    "tensor_5d.data"
   ]
  },
  {
   "cell_type": "code",
   "execution_count": 5,
   "metadata": {},
   "outputs": [
    {
     "name": "stdout",
     "output_type": "stream",
     "text": [
      "28.284271247461902\n"
     ]
    }
   ],
   "source": [
    "# Calculate Frobenious norm\n",
    "frobenius_norm2 = tensor_5d.frob_norm\n",
    "print(frobenius_norm2)"
   ]
  },
  {
   "cell_type": "markdown",
   "metadata": {},
   "source": [
    "### Solution: Part 2"
   ]
  },
  {
   "cell_type": "code",
   "execution_count": 6,
   "metadata": {},
   "outputs": [],
   "source": [
    "# Create tensors and collect information\n",
    "orders = range(3, 21)\n",
    "order_number_of_elements = []\n",
    "\n",
    "for order in orders:\n",
    "    dimensionality = np.full(order, 2)\n",
    "    order_array = np.full(dimensionality, 5)\n",
    "    order_tensor = Tensor(order_array)\n",
    "    order_number_of_elements.append(order_tensor.data.size)"
   ]
  },
  {
   "cell_type": "code",
   "execution_count": 7,
   "metadata": {},
   "outputs": [
    {
     "data": {
      "image/png": "[encoded data removed]",
      "text/plain": [
       "<Figure size 432x288 with 1 Axes>"
      ]
     },
     "metadata": {
      "needs_background": "light"
     },
     "output_type": "display_data"
    }
   ],
   "source": [
    "# Plot results\n",
    "figure = plt.figure()\n",
    "plt.plot(orders, order_number_of_elements)\n",
    "plt.title('Number of elements as a function of tensor order')\n",
    "plt.xlabel('Tensor Order')\n",
    "plt.ylabel('Number of Elements')\n",
    "plt.grid(True)\n",
    "plt.show()"
   ]
  },
  {
   "cell_type": "markdown",
   "metadata": {},
   "source": [
    "### Solution: Part 3"
   ]
  },
  {
   "cell_type": "code",
   "execution_count": 8,
   "metadata": {},
   "outputs": [],
   "source": [
    "# Create tensors and collect information\n",
    "dimension_sizes = range(3, 16)\n",
    "dim_size_number_of_elements = []\n",
    "\n",
    "for dimension_size in dimension_sizes:\n",
    "    dimensionality = np.full(3, dimension_size)\n",
    "    dim_size_array = np.full(dimensionality, 5)\n",
    "    dim_size_tensor = Tensor(dim_size_array)\n",
    "    dim_size_number_of_elements.append(dim_size_tensor.data.size)"
   ]
  },
  {
   "cell_type": "code",
   "execution_count": 9,
   "metadata": {},
   "outputs": [
    {
     "data": {
      "image/png": "[encoded data removed]",
      "text/plain": [
       "<Figure size 432x288 with 1 Axes>"
      ]
     },
     "metadata": {
      "needs_background": "light"
     },
     "output_type": "display_data"
    }
   ],
   "source": [
    "# Plot results\n",
    "figure = plt.figure()\n",
    "plt.plot(dimension_sizes, dim_size_number_of_elements)\n",
    "plt.title('Number of elements as a function of tensor dimension size')\n",
    "plt.xlabel('Tensor Dimension Size')\n",
    "plt.ylabel('Number of Elements')\n",
    "plt.grid(True)\n",
    "plt.show()"
   ]
  },
  {
   "cell_type": "markdown",
   "metadata": {},
   "source": [
    "### Solution: Part 4"
   ]
  },
  {
   "cell_type": "markdown",
   "metadata": {},
   "source": [
    "Through the figures above we clearly observe that the number of elements in the tensor is an exponential function of the tensor order and a polynomial function of the tensor dimension size. Therefore, an increase in the order of the tensor leads to a much larger growth in number of elements than an increase in the dimension size. This has real-world implication as far as computational complexity and physical memory space are concerned."
   ]
  },
  {
   "cell_type": "markdown",
   "metadata": {
    "toc-hr-collapsed": false
   },
   "source": [
    "# Most common tensor substructures\n",
    "<img src=\"./imgs/tensor_substructures.png\" alt=\"Drawing\" style=\"width: 500px;\"/>\n",
    "\n",
    "1. A **fiber** is a vector obtained by fixing all but one of the indices, e.g.  $\\mathbf{\\underline{X}}[i,:,k]$ is the mode-2 fiber $\\mathbf{\\underline{X}}$ (usually refered to as row fiber). \n",
    "\n",
    "1. Fixing all but two of the indices yields a matrix called a **slice** of a tensor, e.g. $\\mathbf{\\underline{X}}[:,:,k]$ is the mode-[1,2] slice (usually refered to as the frontal slice).\n",
    "\n",
    "**Note:** The same principles and definitions can be applied to a tensor of an arbitrarily large order. In addition, you can obtain a **subtensor** by fixing at least three indices and letting the remaining ones vary."
   ]
  },
  {
   "cell_type": "code",
   "execution_count": 10,
   "metadata": {},
   "outputs": [
    {
     "data": {
      "text/plain": [
       "array([4, 5, 6, 7])"
      ]
     },
     "execution_count": 10,
     "metadata": {},
     "output_type": "execute_result"
    }
   ],
   "source": [
    "# Mode-2 fiber\n",
    "tensor.data[0,1,:]"
   ]
  },
  {
   "cell_type": "code",
   "execution_count": 11,
   "metadata": {},
   "outputs": [
    {
     "data": {
      "text/plain": [
       "array([[ 0,  1,  2,  3],\n",
       "       [ 4,  5,  6,  7],\n",
       "       [ 8,  9, 10, 11]])"
      ]
     },
     "execution_count": 11,
     "metadata": {},
     "output_type": "execute_result"
    }
   ],
   "source": [
    "# Frontal slice\n",
    "tensor.data[0,:,:]"
   ]
  },
  {
   "cell_type": "markdown",
   "metadata": {
    "toc-hr-collapsed": true
   },
   "source": [
    "## **Assigment 2**\n",
    "\n",
    "1. Create a tensor of order 4 which consists of 81 elements and display all its horizontal slices and any five row fibers.\n",
    "2. Create a tensor of order 3 and shape `(4,2,5)`, where the values of each consequent frontal slice are doubled."
   ]
  },
  {
   "cell_type": "markdown",
   "metadata": {},
   "source": [
    "### Solution: Part 1"
   ]
  },
  {
   "cell_type": "code",
   "execution_count": 12,
   "metadata": {},
   "outputs": [
    {
     "name": "stdout",
     "output_type": "stream",
     "text": [
      "This tensor is of order 4 and consists of 81 elements.\n",
      "Sizes and names of its modes are (3, 3, 3, 3) and ['mode-0', 'mode-1', 'mode-2', 'mode-3'] respectively.\n"
     ]
    },
    {
     "data": {
      "text/plain": [
       "array([[[[ 0,  1,  2],\n",
       "         [ 3,  4,  5],\n",
       "         [ 6,  7,  8]],\n",
       "\n",
       "        [[ 9, 10, 11],\n",
       "         [12, 13, 14],\n",
       "         [15, 16, 17]],\n",
       "\n",
       "        [[18, 19, 20],\n",
       "         [21, 22, 23],\n",
       "         [24, 25, 26]]],\n",
       "\n",
       "\n",
       "       [[[27, 28, 29],\n",
       "         [30, 31, 32],\n",
       "         [33, 34, 35]],\n",
       "\n",
       "        [[36, 37, 38],\n",
       "         [39, 40, 41],\n",
       "         [42, 43, 44]],\n",
       "\n",
       "        [[45, 46, 47],\n",
       "         [48, 49, 50],\n",
       "         [51, 52, 53]]],\n",
       "\n",
       "\n",
       "       [[[54, 55, 56],\n",
       "         [57, 58, 59],\n",
       "         [60, 61, 62]],\n",
       "\n",
       "        [[63, 64, 65],\n",
       "         [66, 67, 68],\n",
       "         [69, 70, 71]],\n",
       "\n",
       "        [[72, 73, 74],\n",
       "         [75, 76, 77],\n",
       "         [78, 79, 80]]]])"
      ]
     },
     "execution_count": 12,
     "metadata": {},
     "output_type": "execute_result"
    }
   ],
   "source": [
    "# Create a tensor of order 4\n",
    "array_4d = np.arange(81).reshape((3, 3, 3, 3))\n",
    "tensor_4d = Tensor(array_4d)\n",
    "\n",
    "print(tensor_4d)\n",
    "tensor_4d.data"
   ]
  },
  {
   "cell_type": "code",
   "execution_count": 13,
   "metadata": {},
   "outputs": [
    {
     "name": "stdout",
     "output_type": "stream",
     "text": [
      "tensor(:, 0, :, :) slice:\n",
      "[[[ 0  1  2]\n",
      "  [ 3  4  5]\n",
      "  [ 6  7  8]]\n",
      "\n",
      " [[27 28 29]\n",
      "  [30 31 32]\n",
      "  [33 34 35]]\n",
      "\n",
      " [[54 55 56]\n",
      "  [57 58 59]\n",
      "  [60 61 62]]]\n",
      "tensor(:, 1, :, :) slice:\n",
      "[[[ 9 10 11]\n",
      "  [12 13 14]\n",
      "  [15 16 17]]\n",
      "\n",
      " [[36 37 38]\n",
      "  [39 40 41]\n",
      "  [42 43 44]]\n",
      "\n",
      " [[63 64 65]\n",
      "  [66 67 68]\n",
      "  [69 70 71]]]\n",
      "tensor(:, 2, :, :) slice:\n",
      "[[[18 19 20]\n",
      "  [21 22 23]\n",
      "  [24 25 26]]\n",
      "\n",
      " [[45 46 47]\n",
      "  [48 49 50]\n",
      "  [51 52 53]]\n",
      "\n",
      " [[72 73 74]\n",
      "  [75 76 77]\n",
      "  [78 79 80]]]\n"
     ]
    }
   ],
   "source": [
    "# Display slices\n",
    "for dim0_index in range(tensor_4d.shape[0]):\n",
    "    print('tensor(:, {}, :, :) slice:'.format(dim0_index))\n",
    "    print(tensor_4d[:, dim0_index, :, :])"
   ]
  },
  {
   "cell_type": "code",
   "execution_count": 14,
   "metadata": {},
   "outputs": [
    {
     "name": "stdout",
     "output_type": "stream",
     "text": [
      "[0 3 6]\n",
      "[27 30 33]\n",
      "[54 57 60]\n",
      "[ 9 12 15]\n",
      "[18 21 24]\n"
     ]
    }
   ],
   "source": [
    "# Display fibers\n",
    "\n",
    "row_fiber1 = tensor_4d[0, 0, :, 0]\n",
    "row_fiber2 = tensor_4d[1, 0, :, 0]\n",
    "row_fiber3 = tensor_4d[2, 0, :, 0]\n",
    "row_fiber4 = tensor_4d[0, 1, :, 0]\n",
    "row_fiber5 = tensor_4d[0, 2, :, 0]\n",
    "\n",
    "print(row_fiber1)\n",
    "print(row_fiber2)\n",
    "print(row_fiber3)\n",
    "print(row_fiber4)\n",
    "print(row_fiber5)"
   ]
  },
  {
   "cell_type": "markdown",
   "metadata": {},
   "source": [
    "### Solution: Part 2"
   ]
  },
  {
   "cell_type": "code",
   "execution_count": 15,
   "metadata": {},
   "outputs": [
    {
     "name": "stdout",
     "output_type": "stream",
     "text": [
      "This tensor is of order 3 and consists of 40 elements.\n",
      "Sizes and names of its modes are (4, 2, 5) and ['mode-0', 'mode-1', 'mode-2'] respectively.\n"
     ]
    },
    {
     "data": {
      "text/plain": [
       "array([[[ 3.,  6., 12., 24., 48.],\n",
       "        [ 3.,  6., 12., 24., 48.]],\n",
       "\n",
       "       [[ 3.,  6., 12., 24., 48.],\n",
       "        [ 3.,  6., 12., 24., 48.]],\n",
       "\n",
       "       [[ 3.,  6., 12., 24., 48.],\n",
       "        [ 3.,  6., 12., 24., 48.]],\n",
       "\n",
       "       [[ 3.,  6., 12., 24., 48.],\n",
       "        [ 3.,  6., 12., 24., 48.]]])"
      ]
     },
     "execution_count": 15,
     "metadata": {},
     "output_type": "execute_result"
    }
   ],
   "source": [
    "# Create a tensor of order 3\n",
    "doubling_tensor = Tensor(np.ones([4, 2, 5]))\n",
    "first_frontal_value = 3\n",
    "frontal_slice_dim = [4, 2]\n",
    "\n",
    "for dim2_index in range(doubling_tensor.shape[2]):\n",
    "    current_frontal_value = first_frontal_value * (2 ** (dim2_index))\n",
    "    doubling_tensor[:, :, dim2_index] = np.full(frontal_slice_dim, current_frontal_value)\n",
    "\n",
    "print(doubling_tensor)\n",
    "doubling_tensor.data"
   ]
  },
  {
   "cell_type": "markdown",
   "metadata": {
    "toc-hr-collapsed": false
   },
   "source": [
    "# Unfolding\n",
    "\n",
    "Conventionally, unfolding is considered to be a process of element mapping from a tensor to a matrix. In other words, it arranges the mode-$n$ fibers of a tensor to be the matrix columns. Thus, the mode-$n$ unfolding is denoted as:\n",
    "\n",
    "$$\\mathbf{\\underline{A}} \\xrightarrow{n} \\mathbf{A}_{(n)}$$\n",
    "\n",
    "Thus, this operations requires to specify a mode along which a tensor will be unfolded. For a third order tensor, a visual representation of such operation is as following\n",
    "\n",
    "<img src=\"./imgs/unfolding.png\" alt=\"Drawing\" style=\"width: 600px;\"/>\n",
    "\n",
    "In `hottbox` this functionality is available through the corresponding methods of the `Tensor` object, for instance:"
   ]
  },
  {
   "cell_type": "code",
   "execution_count": 16,
   "metadata": {},
   "outputs": [
    {
     "name": "stdout",
     "output_type": "stream",
     "text": [
      "This tensor is of order 2 and consists of 24 elements.\n",
      "Sizes and names of its modes are (2, 12) and ['mode-0', 'mode-1_mode-2'] respectively.\n"
     ]
    },
    {
     "data": {
      "text/plain": [
       "array([[ 0,  1,  2,  3,  4,  5,  6,  7,  8,  9, 10, 11],\n",
       "       [12, 13, 14, 15, 16, 17, 18, 19, 20, 21, 22, 23]])"
      ]
     },
     "execution_count": 16,
     "metadata": {},
     "output_type": "execute_result"
    }
   ],
   "source": [
    "# Create 3-d array of data\n",
    "array_3d = np.arange(24).reshape((2, 3, 4))\n",
    "\n",
    "# Create tensor\n",
    "tensor = Tensor(array_3d)\n",
    "\n",
    "# Unfolding of a tensor\n",
    "tensor.unfold(mode=0)\n",
    "\n",
    "# Result preview\n",
    "print(tensor)\n",
    "tensor.data"
   ]
  },
  {
   "cell_type": "markdown",
   "metadata": {
    "toc-hr-collapsed": true
   },
   "source": [
    "## **Assigment 3**\n",
    "\n",
    "1. Create a tensor, $\\mathbf{\\underline{A}}$, of order 4, in such a way that its version unfolded along the second mode would have sizes `(5,72)`, that is $\\mathbf{A}_{(n)} \\in  \\mathbb{R}^{5 \\times 72}$. Validate your results by displaying the unfolded tensor."
   ]
  },
  {
   "cell_type": "markdown",
   "metadata": {},
   "source": [
    "### Solution : Part 1"
   ]
  },
  {
   "cell_type": "code",
   "execution_count": 17,
   "metadata": {},
   "outputs": [
    {
     "name": "stdout",
     "output_type": "stream",
     "text": [
      "This tensor is of order 4 and consists of 360 elements.\n",
      "Sizes and names of its modes are (4, 5, 3, 6) and ['mode-0', 'mode-1', 'mode-2', 'mode-3'] respectively.\n"
     ]
    }
   ],
   "source": [
    "# Create a tensor\n",
    "array_4d_unfold = np.arange(360).reshape((4, 5, 3, 6))\n",
    "tensor_4d_unfold = Tensor(array_4d_unfold)\n",
    "print(tensor_4d_unfold)"
   ]
  },
  {
   "cell_type": "code",
   "execution_count": 18,
   "metadata": {},
   "outputs": [
    {
     "name": "stdout",
     "output_type": "stream",
     "text": [
      "[[  0   1   2   3   4   5   6   7   8   9  10  11  12  13  14  15  16  17\n",
      "   90  91  92  93  94  95  96  97  98  99 100 101 102 103 104 105 106 107\n",
      "  180 181 182 183 184 185 186 187 188 189 190 191 192 193 194 195 196 197\n",
      "  270 271 272 273 274 275 276 277 278 279 280 281 282 283 284 285 286 287]\n",
      " [ 18  19  20  21  22  23  24  25  26  27  28  29  30  31  32  33  34  35\n",
      "  108 109 110 111 112 113 114 115 116 117 118 119 120 121 122 123 124 125\n",
      "  198 199 200 201 202 203 204 205 206 207 208 209 210 211 212 213 214 215\n",
      "  288 289 290 291 292 293 294 295 296 297 298 299 300 301 302 303 304 305]\n",
      " [ 36  37  38  39  40  41  42  43  44  45  46  47  48  49  50  51  52  53\n",
      "  126 127 128 129 130 131 132 133 134 135 136 137 138 139 140 141 142 143\n",
      "  216 217 218 219 220 221 222 223 224 225 226 227 228 229 230 231 232 233\n",
      "  306 307 308 309 310 311 312 313 314 315 316 317 318 319 320 321 322 323]\n",
      " [ 54  55  56  57  58  59  60  61  62  63  64  65  66  67  68  69  70  71\n",
      "  144 145 146 147 148 149 150 151 152 153 154 155 156 157 158 159 160 161\n",
      "  234 235 236 237 238 239 240 241 242 243 244 245 246 247 248 249 250 251\n",
      "  324 325 326 327 328 329 330 331 332 333 334 335 336 337 338 339 340 341]\n",
      " [ 72  73  74  75  76  77  78  79  80  81  82  83  84  85  86  87  88  89\n",
      "  162 163 164 165 166 167 168 169 170 171 172 173 174 175 176 177 178 179\n",
      "  252 253 254 255 256 257 258 259 260 261 262 263 264 265 266 267 268 269\n",
      "  342 343 344 345 346 347 348 349 350 351 352 353 354 355 356 357 358 359]]\n",
      "Unfolded tensor shape: (5, 72)\n"
     ]
    }
   ],
   "source": [
    "# Display unfolded version\n",
    "unfolded_tensor = tensor_4d_unfold.unfold(mode=1)\n",
    "print(unfolded_tensor.data)\n",
    "print('Unfolded tensor shape: {}'.format(unfolded_tensor.shape))"
   ]
  },
  {
   "cell_type": "markdown",
   "metadata": {
    "toc-hr-collapsed": false
   },
   "source": [
    "# Mode-n product \n",
    "<img src=\"./imgs/mode_n_product.png\" alt=\"Drawing\" style=\"width: 600px;\"/>\n",
    "\n",
    "The mode-$n$ product is a multiplication of a tensor  by a matrix along the $n^{th}$ mode of a tensor. This essentially means that each mode-$n$ fiber should be multiplied by this matrix. Mathematically, this can be expressed as:\n",
    "\n",
    "$$\\mathbf{\\underline{X}} \\times_n \\mathbf{A} = \\mathbf{\\underline{Y}} \\quad \\Leftrightarrow  \\quad \\mathbf{Y}_{(n)} = \\mathbf{A} \\mathbf{X}_{(n)}  $$"
   ]
  },
  {
   "cell_type": "code",
   "execution_count": 19,
   "metadata": {},
   "outputs": [
    {
     "name": "stdout",
     "output_type": "stream",
     "text": [
      "This tensor is of order 3 and consists of 40 elements.\n",
      "Sizes and names of its modes are (2, 5, 4) and ['mode-0', 'mode-1', 'mode-2'] respectively.\n"
     ]
    },
    {
     "data": {
      "text/plain": [
       "array([[ 20,  23,  26,  29,  56,  59,  62,  65],\n",
       "       [ 56,  68,  80,  92, 200, 212, 224, 236],\n",
       "       [ 92, 113, 134, 155, 344, 365, 386, 407],\n",
       "       [128, 158, 188, 218, 488, 518, 548, 578],\n",
       "       [164, 203, 242, 281, 632, 671, 710, 749]])"
      ]
     },
     "execution_count": 19,
     "metadata": {},
     "output_type": "execute_result"
    }
   ],
   "source": [
    "I, J, K = 2, 3, 4\n",
    "J_new = 5\n",
    "\n",
    "# Create tensor\n",
    "array_3d = np.arange(I * J * K).reshape(I, J ,K)\n",
    "X = Tensor(array_3d)\n",
    "\n",
    "# Create matrix\n",
    "A = np.arange(J_new * J).reshape(J_new, J)\n",
    "\n",
    "# Performs Mode-n product \n",
    "Y = X.mode_n_product(A, mode=1, inplace=False)\n",
    "\n",
    "# Preview of resulting tensor\n",
    "print(Y)\n",
    "\n",
    "# Preview of its unfolded version\n",
    "Y.unfold(mode=1, inplace=False).data"
   ]
  },
  {
   "cell_type": "markdown",
   "metadata": {
    "toc-hr-collapsed": true
   },
   "source": [
    "## **Assignment 4**\n",
    "\n",
    "1. Perform the mode-$n$ product of a 3-rd order tensor, $\\mathbf{\\underline{X}}$, with a matrix, $\\mathbf{A} \\in  \\mathbb{R}^{5 \\times 4}$, provided that the resulting tensor, $\\mathbf{\\underline{Y}}$, consists of `100` elements. Validate your results. \n",
    "\n",
    "> **Note:** You are encouraged to experiment with the optional parameter `inplace` and to investigate its effect on the result."
   ]
  },
  {
   "cell_type": "markdown",
   "metadata": {},
   "source": [
    "### Solution: Part 1"
   ]
  },
  {
   "cell_type": "code",
   "execution_count": 20,
   "metadata": {},
   "outputs": [
    {
     "name": "stdout",
     "output_type": "stream",
     "text": [
      "This tensor is of order 3 and consists of 80 elements.\n",
      "Sizes and names of its modes are (2, 4, 10) and ['mode-0', 'mode-1', 'mode-2'] respectively.\n"
     ]
    }
   ],
   "source": [
    "# Create original tensor \n",
    "dim0, dim1, dim2 = 2, 4, 10\n",
    "X_array = np.arange(dim0 * dim1 * dim2).reshape(dim0, dim1, dim2)\n",
    "X_tensor = Tensor(X_array)\n",
    "\n",
    "print(X_tensor)"
   ]
  },
  {
   "cell_type": "code",
   "execution_count": 21,
   "metadata": {},
   "outputs": [
    {
     "name": "stdout",
     "output_type": "stream",
     "text": [
      "[[ 0  1  2  3]\n",
      " [ 4  5  6  7]\n",
      " [ 8  9 10 11]\n",
      " [12 13 14 15]\n",
      " [16 17 18 19]]\n"
     ]
    }
   ],
   "source": [
    "# Create matrix\n",
    "matrix_dim0, matrix_dim1 = 5, 4\n",
    "A_matrix = np.arange(matrix_dim0 * matrix_dim1).reshape(matrix_dim0, matrix_dim1)\n",
    "\n",
    "print(A_matrix)"
   ]
  },
  {
   "cell_type": "code",
   "execution_count": 22,
   "metadata": {},
   "outputs": [
    {
     "name": "stdout",
     "output_type": "stream",
     "text": [
      "This tensor is of order 3 and consists of 100 elements.\n",
      "Sizes and names of its modes are (2, 5, 10) and ['mode-0', 'mode-1', 'mode-2'] respectively.\n"
     ]
    }
   ],
   "source": [
    "# Perform mode-n product\n",
    "Y_tensor = X_tensor.mode_n_product(A_matrix, mode=1, inplace=False)\n",
    "# Note that in place dictates whether the result of the operation will overwrite the current variable or will be assigned to another variable\n",
    "print(Y_tensor)"
   ]
  },
  {
   "cell_type": "code",
   "execution_count": 23,
   "metadata": {},
   "outputs": [
    {
     "name": "stdout",
     "output_type": "stream",
     "text": [
      "True\n"
     ]
    }
   ],
   "source": [
    "# Validate equivalence between the left and right hand side\n",
    "left_hand_size = np.matmul(A_matrix.data, X_tensor.unfold(mode=1, inplace=False).data)\n",
    "right_hand_side = Y_tensor.unfold(mode=1, inplace=False).data\n",
    "equivalence = np.array_equal(left_hand_size, right_hand_side)\n",
    "print(equivalence)"
   ]
  },
  {
   "cell_type": "markdown",
   "metadata": {},
   "source": [
    "# Properties of mode-n product\n",
    "\n",
    "1. For distinct modes in a series of multiplications, the order of the multiplication is irrelevent: \n",
    "\n",
    "    $$\\mathbf{\\underline{X}} \\times_n \\mathbf{A} \\times_m \\mathbf{B} = \\mathbf{\\underline{X}} \\times_m \\mathbf{B} \\times_n \\mathbf{A} \\quad (m \\neq n)$$\n",
    "\n",
    "1. However, this does not hold if the modes are the same :\n",
    "\n",
    "    $$\\mathbf{\\underline{X}} \\times_n \\mathbf{A} \\times_n \\mathbf{B} = \\mathbf{\\underline{X}} \\times_n (\\mathbf{B}\\mathbf{A})$$"
   ]
  },
  {
   "cell_type": "markdown",
   "metadata": {
    "toc-hr-collapsed": true
   },
   "source": [
    "## **Assignment 5**\n",
    "\n",
    "1. Validate both of the above properties empirically \n",
    "2. Prove the second property analytically\n",
    "\n",
    "> **Note:** Be aware of consequences of the optional parameter `inplace` (its default value is set to `True`)."
   ]
  },
  {
   "cell_type": "markdown",
   "metadata": {},
   "source": [
    "### Solution: Part 1"
   ]
  },
  {
   "cell_type": "code",
   "execution_count": 24,
   "metadata": {},
   "outputs": [
    {
     "name": "stdout",
     "output_type": "stream",
     "text": [
      "This tensor is of order 3 and consists of 30 elements.\n",
      "Sizes and names of its modes are (2, 3, 5) and ['mode-0', 'mode-1', 'mode-2'] respectively.\n"
     ]
    }
   ],
   "source": [
    "# Create tensor\n",
    "dim0, dim1, dim2 = 2, 3, 5\n",
    "X_array = np.arange(dim0 * dim1 * dim2).reshape(dim0, dim1, dim2)\n",
    "X_tensor = Tensor(X_array)\n",
    "\n",
    "print(X_tensor)"
   ]
  },
  {
   "cell_type": "code",
   "execution_count": 25,
   "metadata": {},
   "outputs": [
    {
     "name": "stdout",
     "output_type": "stream",
     "text": [
      "[[ 0  1  2]\n",
      " [ 3  4  5]\n",
      " [ 6  7  8]\n",
      " [ 9 10 11]\n",
      " [12 13 14]]\n",
      "[[ 0  1  2  3  4]\n",
      " [ 5  6  7  8  9]\n",
      " [10 11 12 13 14]\n",
      " [15 16 17 18 19]\n",
      " [20 21 22 23 24]\n",
      " [25 26 27 28 29]]\n"
     ]
    }
   ],
   "source": [
    "# Create matrices\n",
    "A_matrix = np.arange(5 * 3).reshape(5, 3)\n",
    "B_matrix = np.arange(6 * 5).reshape(6, 5)\n",
    "\n",
    "print(A_matrix)\n",
    "print(B_matrix)"
   ]
  },
  {
   "cell_type": "code",
   "execution_count": 26,
   "metadata": {},
   "outputs": [
    {
     "name": "stdout",
     "output_type": "stream",
     "text": [
      "True\n"
     ]
    }
   ],
   "source": [
    "# Validate property 1\n",
    "property_1_left = X_tensor.mode_n_product(A_matrix, mode=1, inplace=False).mode_n_product(B_matrix, mode=2, inplace=False)\n",
    "property_1_right = X_tensor.mode_n_product(B_matrix, mode=2, inplace=False).mode_n_product(A_matrix, mode=1, inplace=False)\n",
    "\n",
    "property_1_equivalence = np.array_equal(property_1_left, property_1_right)\n",
    "print(property_1_equivalence)"
   ]
  },
  {
   "cell_type": "code",
   "execution_count": 27,
   "metadata": {},
   "outputs": [
    {
     "name": "stdout",
     "output_type": "stream",
     "text": [
      "True\n"
     ]
    }
   ],
   "source": [
    "# Validate property 2\n",
    "property_2_left = X_tensor.mode_n_product(A_matrix, mode=1, inplace=False).mode_n_product(B_matrix, mode=1, inplace=False)\n",
    "property_2_right = X_tensor.mode_n_product(np.matmul(B_matrix.data, A_matrix.data), mode=1, inplace=False)\n",
    "\n",
    "property_2_equivalence = np.array_equal(property_2_left, property_2_right)\n",
    "print(property_2_equivalence)"
   ]
  },
  {
   "cell_type": "markdown",
   "metadata": {
    "toc-hr-collapsed": true
   },
   "source": [
    "### Solution: Part 2\n",
    "\n",
    "Use [LaTeX syntax](https://stackoverflow.com/questions/13208286/how-to-write-latex-in-ipython-notebook) for analytical deriviations for the second property below.\n"
   ]
  },
  {
   "cell_type": "code",
   "execution_count": 28,
   "metadata": {},
   "outputs": [
    {
     "data": {
      "text/latex": [
       "\n",
       "We start from the expression of the mode-$n$ product provided above:\n",
       "$$\\mathbf{\\underline{X}} \\times_n \\mathbf{A} = \\mathbf{\\underline{Y}} \\quad \\Leftrightarrow  \\quad \\mathbf{Y}_{(n)} = \\mathbf{A} \\mathbf{X}_{(n)}$$\n",
       "\n",
       "Perform a mode-$n$ multiplication on both sides with the matrix ${\\mathbf{B}}$:\n",
       "$$\\mathbf{\\underline{X}} \\times_n \\mathbf{A} \\times_n \\mathbf{B} = \\mathbf{\\underline{Y}}  \\times_n \\mathbf{B}$$\n",
       "\n",
       "Use the expression for $\\mathbf{\\underline{Y}}$ from the first definition:\n",
       "$$\\mathbf{\\underline{X}} \\times_n \\mathbf{A} \\times_n \\mathbf{B} = \\mathbf{A} \\mathbf{X}  \\times_n \\mathbf{B}$$\n",
       "\n",
       "Rearrange:\n",
       "$$\\mathbf{\\underline{X}} \\times_n \\mathbf{A} \\times_n \\mathbf{B} = \\mathbf{\\underline{X}} \\times_n (\\mathbf{B}\\mathbf{A})$$\n",
       "\n",
       "Q.E.D.\n"
      ],
      "text/plain": [
       "<IPython.core.display.Latex object>"
      ]
     },
     "metadata": {},
     "output_type": "display_data"
    }
   ],
   "source": [
    "%%latex\n",
    "\n",
    "We start from the expression of the mode-$n$ product provided above:\n",
    "$$\\mathbf{\\underline{X}} \\times_n \\mathbf{A} = \\mathbf{\\underline{Y}} \\quad \\Leftrightarrow  \\quad \\mathbf{Y}_{(n)} = \\mathbf{A} \\mathbf{X}_{(n)}$$\n",
    "\n",
    "Perform a mode-$n$ multiplication on both sides with the matrix ${\\mathbf{B}}$:\n",
    "$$\\mathbf{\\underline{X}} \\times_n \\mathbf{A} \\times_n \\mathbf{B} = \\mathbf{\\underline{Y}}  \\times_n \\mathbf{B}$$\n",
    "\n",
    "Use the expression for $\\mathbf{\\underline{Y}}$ from the first definition:\n",
    "$$\\mathbf{\\underline{X}} \\times_n \\mathbf{A} \\times_n \\mathbf{B} = \\mathbf{A} \\mathbf{X}  \\times_n \\mathbf{B}$$\n",
    "\n",
    "Rearrange:\n",
    "$$\\mathbf{\\underline{X}} \\times_n \\mathbf{A} \\times_n \\mathbf{B} = \\mathbf{\\underline{X}} \\times_n (\\mathbf{B}\\mathbf{A})$$\n",
    "\n",
    "Q.E.D."
   ]
  }
 ],
 "metadata": {
  "kernelspec": {
   "display_name": "dpm-coursework",
   "language": "python",
   "name": "dpm-coursework"
  },
  "language_info": {
   "codemirror_mode": {
    "name": "ipython",
    "version": 3
   },
   "file_extension": ".py",
   "mimetype": "text/x-python",
   "name": "python",
   "nbconvert_exporter": "python",
   "pygments_lexer": "ipython3",
   "version": "3.6.5"
  },
  "toc-autonumbering": false,
  "toc-showcode": false,
  "toc-showmarkdowntxt": false
 },
 "nbformat": 4,
 "nbformat_minor": 2
}
